{
 "cells": [
  {
   "cell_type": "code",
   "execution_count": 1,
   "id": "caf62a4c",
   "metadata": {},
   "outputs": [],
   "source": [
    "# %matplotlib inline\n",
    "import numpy as np\n",
    "import math\n",
    "import matplotlib.pyplot as plt"
   ]
  },
  {
   "cell_type": "code",
   "execution_count": 2,
   "id": "f4875c1b",
   "metadata": {},
   "outputs": [],
   "source": [
    "def tanh(x):\n",
    "    return np.tanh(x)\n",
    "def softmax(x):\n",
    "    exp = np.exp(x-x.max())\n",
    "    return exp/exp.sum()"
   ]
  },
  {
   "cell_type": "code",
   "execution_count": 3,
   "id": "ddc7c3a2",
   "metadata": {},
   "outputs": [],
   "source": [
    "dimensions=[28*28, 10]\n",
    "activation = [tanh, softmax]\n",
    "distribution=[\n",
    "    {'b':[0, 0]},\n",
    "    {'b':[0, 0], 'w':[-math.sqrt(6/(dimensions[0]+ dimensions[1])), math.sqrt(6/(dimensions[0]+ dimensions[1]))]}\n",
    "]"
   ]
  },
  {
   "cell_type": "code",
   "execution_count": 4,
   "id": "021e5d40",
   "metadata": {},
   "outputs": [],
   "source": [
    "def init_parameters_b(layer):\n",
    "    dist = distribution[layer]['b']\n",
    "    return np.random.rand(dimensions[layer])*(dist[1]-dist[0]) + dist[0]\n",
    "def init_parameters_w(layer):\n",
    "    dist = distribution[layer]['w']\n",
    "    return np.random.rand(dimensions[layer-1], dimensions[layer])*(dist[1]-dist[0]) + dist[0]\n",
    "def init_parameters():\n",
    "    parameter = []\n",
    "    for i in range(len(distribution)):\n",
    "        layer_parameter={}\n",
    "        for j in distribution[i].keys():\n",
    "            if j=='b':\n",
    "                layer_parameter['b']=init_parameters_b(i)\n",
    "                continue\n",
    "            if j=='w':\n",
    "                layer_parameter['w']=init_parameters_w(i)\n",
    "                continue\n",
    "        parameter.append(layer_parameter)\n",
    "    return parameter"
   ]
  },
  {
   "cell_type": "code",
   "execution_count": 5,
   "id": "3554bcd9",
   "metadata": {
    "scrolled": false
   },
   "outputs": [],
   "source": [
    "parameters = init_parameters()"
   ]
  },
  {
   "cell_type": "code",
   "execution_count": 6,
   "id": "6903963d",
   "metadata": {},
   "outputs": [],
   "source": [
    "def predict(img, parameters):\n",
    "    l0_in = img+parameters[0]['b']\n",
    "    l0_out = activation[0](l0_in)\n",
    "    l1_in = np.dot(l0_out, parameters[1]['w']) + parameters[1]['b']\n",
    "    l1_out = activation[1](l1_in)\n",
    "    return l1_out"
   ]
  },
  {
   "cell_type": "code",
   "execution_count": 7,
   "id": "90980723",
   "metadata": {},
   "outputs": [
    {
     "data": {
      "text/plain": [
       "5"
      ]
     },
     "execution_count": 7,
     "metadata": {},
     "output_type": "execute_result"
    }
   ],
   "source": [
    "predict(np.random.rand(784), parameters).argmax()"
   ]
  },
  {
   "cell_type": "code",
   "execution_count": null,
   "id": "6db2dcda",
   "metadata": {},
   "outputs": [],
   "source": []
  },
  {
   "cell_type": "code",
   "execution_count": null,
   "id": "6f23e513",
   "metadata": {},
   "outputs": [],
   "source": []
  },
  {
   "cell_type": "code",
   "execution_count": 8,
   "id": "ce10d797",
   "metadata": {},
   "outputs": [],
   "source": [
    "mnist_x_train = np.load('mnist_x_train.npy')\n",
    "tmp_y = np.load('mnist_y_train.npy')\n",
    "mnist_x_test = np.load('mnist_x_test.npy')\n",
    "mnist_y_test = np.load('mnist_y_test.npy')\n",
    "m1, m2, m3 = mnist_x_train.shape\n",
    "tmp = mnist_x_train.reshape(-1, m2*m3)\n",
    "mnist_x_test = mnist_x_test.reshape(-1, m2*m3)\n",
    "\n",
    "train_num = 50000\n",
    "valid_num = 10000\n",
    "test_num = 10000\n",
    "\n",
    "mnist_x_train = tmp[:train_num]\n",
    "mnist_x_valid = tmp[train_num:]\n",
    "mnist_y_train = tmp_y[:train_num]\n",
    "mnist_y_valid = tmp_y[train_num:]"
   ]
  },
  {
   "cell_type": "code",
   "execution_count": 9,
   "id": "9320bb14",
   "metadata": {},
   "outputs": [
    {
     "name": "stdout",
     "output_type": "stream",
     "text": [
      "(50000, 784)\n",
      "(10000, 784)\n",
      "(10000, 784)\n",
      "(50000,)\n",
      "(10000,)\n",
      "(10000,)\n"
     ]
    }
   ],
   "source": [
    "print(mnist_x_train.shape)\n",
    "print(mnist_x_valid.shape)\n",
    "print(mnist_x_test.shape)\n",
    "print(mnist_y_train.shape)\n",
    "print(mnist_y_valid.shape)\n",
    "print(mnist_y_test.shape)"
   ]
  },
  {
   "cell_type": "code",
   "execution_count": 10,
   "id": "ebf206eb",
   "metadata": {},
   "outputs": [],
   "source": [
    "def show_train(index):\n",
    "    plt.imshow(mnist_x_train[index].reshape(28, 28), cmap='gray')\n",
    "    print(f'label: {mnist_y_train[index]}')\n",
    "def show_valid(index):\n",
    "    plt.imshow(mnist_x_valid[index].reshape(28, 28), cmap='gray')\n",
    "    print(f'label: {mnist_y_valid[index]}')\n",
    "def show_test(index):\n",
    "    plt.imshow(mnist_x_test[index].reshape(28, 28), cmap='gray')\n",
    "    print(f'label: {mnist_y_test[index]}')"
   ]
  },
  {
   "cell_type": "code",
   "execution_count": 11,
   "id": "48dbe452",
   "metadata": {
    "scrolled": false
   },
   "outputs": [
    {
     "name": "stdout",
     "output_type": "stream",
     "text": [
      "label: 0\n"
     ]
    },
    {
     "data": {
      "image/png": "[encoded data removed]",
      "text/plain": [
       "<Figure size 640x480 with 1 Axes>"
      ]
     },
     "metadata": {},
     "output_type": "display_data"
    }
   ],
   "source": [
    "show_train(np.random.randint(train_num-1))"
   ]
  },
  {
   "cell_type": "code",
   "execution_count": 12,
   "id": "f464b7c4",
   "metadata": {},
   "outputs": [
    {
     "name": "stdout",
     "output_type": "stream",
     "text": [
      "label: 0\n"
     ]
    },
    {
     "data": {
      "image/png": "[encoded data removed]",
      "text/plain": [
       "<Figure size 640x480 with 1 Axes>"
      ]
     },
     "metadata": {},
     "output_type": "display_data"
    }
   ],
   "source": [
    "show_valid(np.random.randint(valid_num-1))"
   ]
  },
  {
   "cell_type": "code",
   "execution_count": 55,
   "id": "6794c87f",
   "metadata": {
    "scrolled": true
   },
   "outputs": [
    {
     "name": "stdout",
     "output_type": "stream",
     "text": [
      "label: 3\n"
     ]
    },
    {
     "data": {
      "image/png": "[encoded data removed]",
      "text/plain": [
       "<Figure size 640x480 with 1 Axes>"
      ]
     },
     "metadata": {},
     "output_type": "display_data"
    }
   ],
   "source": [
    "show_test(np.random.randint(test_num-1))"
   ]
  },
  {
   "cell_type": "code",
   "execution_count": 14,
   "id": "afb9d1c9",
   "metadata": {},
   "outputs": [
    {
     "name": "stdout",
     "output_type": "stream",
     "text": [
      "[  0   0   0   0   0   0   0   0   0   0   0   0   0   0   0   0   0   0\n",
      "   0   0   0   0   0   0   0   0   0   0   0   0   0   0   0   0   0   0\n",
      "   0   0   0   0   0   0   0   0   0   0   0   0   0   0   0   0   0   0\n",
      "   0   0   0   0   0   0   0   0   0   0   0   0   0   0   0   0   0   0\n",
      "   0   0   0   0   0   0   0   0   0   0   0   0   0   0   0   0   0   0\n",
      "   0   0   0   0   0   0   0   0   0   0   0   0   0   0   0   0   0   0\n",
      "   0   0   0   0   0   0   0   0   0   0   0   0   0   0   0   0   0   0\n",
      "   0   0   0   0   0   0   0   0   0   0   0   0   0   0   0   0   0   0\n",
      "   0   0   0   0   0   0   0   0   3  18  18  18 126 136 175  26 166 255\n",
      " 247 127   0   0   0   0   0   0   0   0   0   0   0   0  30  36  94 154\n",
      " 170 253 253 253 253 253 225 172 253 242 195  64   0   0   0   0   0   0\n",
      "   0   0   0   0   0  49 238 253 253 253 253 253 253 253 253 251  93  82\n",
      "  82  56  39   0   0   0   0   0   0   0   0   0   0   0   0  18 219 253\n",
      " 253 253 253 253 198 182 247 241   0   0   0   0   0   0   0   0   0   0\n",
      "   0   0   0   0   0   0   0   0  80 156 107 253 253 205  11   0  43 154\n",
      "   0   0   0   0   0   0   0   0   0   0   0   0   0   0   0   0   0   0\n",
      "   0  14   1 154 253  90   0   0   0   0   0   0   0   0   0   0   0   0\n",
      "   0   0   0   0   0   0   0   0   0   0   0   0   0 139 253 190   2   0\n",
      "   0   0   0   0   0   0   0   0   0   0   0   0   0   0   0   0   0   0\n",
      "   0   0   0   0   0  11 190 253  70   0   0   0   0   0   0   0   0   0\n",
      "   0   0   0   0   0   0   0   0   0   0   0   0   0   0   0   0  35 241\n",
      " 225 160 108   1   0   0   0   0   0   0   0   0   0   0   0   0   0   0\n",
      "   0   0   0   0   0   0   0   0   0  81 240 253 253 119  25   0   0   0\n",
      "   0   0   0   0   0   0   0   0   0   0   0   0   0   0   0   0   0   0\n",
      "   0   0  45 186 253 253 150  27   0   0   0   0   0   0   0   0   0   0\n",
      "   0   0   0   0   0   0   0   0   0   0   0   0   0  16  93 252 253 187\n",
      "   0   0   0   0   0   0   0   0   0   0   0   0   0   0   0   0   0   0\n",
      "   0   0   0   0   0   0   0 249 253 249  64   0   0   0   0   0   0   0\n",
      "   0   0   0   0   0   0   0   0   0   0   0   0   0   0  46 130 183 253\n",
      " 253 207   2   0   0   0   0   0   0   0   0   0   0   0   0   0   0   0\n",
      "   0   0   0   0  39 148 229 253 253 253 250 182   0   0   0   0   0   0\n",
      "   0   0   0   0   0   0   0   0   0   0   0   0  24 114 221 253 253 253\n",
      " 253 201  78   0   0   0   0   0   0   0   0   0   0   0   0   0   0   0\n",
      "   0   0  23  66 213 253 253 253 253 198  81   2   0   0   0   0   0   0\n",
      "   0   0   0   0   0   0   0   0   0   0  18 171 219 253 253 253 253 195\n",
      "  80   9   0   0   0   0   0   0   0   0   0   0   0   0   0   0   0   0\n",
      "  55 172 226 253 253 253 253 244 133  11   0   0   0   0   0   0   0   0\n",
      "   0   0   0   0   0   0   0   0   0   0 136 253 253 253 212 135 132  16\n",
      "   0   0   0   0   0   0   0   0   0   0   0   0   0   0   0   0   0   0\n",
      "   0   0   0   0   0   0   0   0   0   0   0   0   0   0   0   0   0   0\n",
      "   0   0   0   0   0   0   0   0   0   0   0   0   0   0   0   0   0   0\n",
      "   0   0   0   0   0   0   0   0   0   0   0   0   0   0   0   0   0   0\n",
      "   0   0   0   0   0   0   0   0   0   0   0   0   0   0   0   0   0   0\n",
      "   0   0   0   0   0   0   0   0   0   0]\n"
     ]
    }
   ],
   "source": [
    "print(mnist_x_train[0])"
   ]
  },
  {
   "cell_type": "code",
   "execution_count": 15,
   "id": "53088357",
   "metadata": {},
   "outputs": [],
   "source": [
    "mnist_x_train = np.divide(mnist_x_train, 255)\n",
    "mnist_x_valid = np.divide(mnist_x_valid, 255)\n",
    "mnist_x_test = np.divide(mnist_x_test, 255)"
   ]
  },
  {
   "cell_type": "code",
   "execution_count": 16,
   "id": "84d76e27",
   "metadata": {},
   "outputs": [
    {
     "name": "stdout",
     "output_type": "stream",
     "text": [
      "[0.         0.         0.         0.         0.         0.\n",
      " 0.         0.         0.         0.         0.         0.\n",
      " 0.         0.         0.         0.         0.         0.\n",
      " 0.         0.         0.         0.         0.         0.\n",
      " 0.         0.         0.         0.         0.         0.\n",
      " 0.         0.         0.         0.         0.         0.\n",
      " 0.         0.         0.         0.         0.         0.\n",
      " 0.         0.         0.         0.         0.         0.\n",
      " 0.         0.         0.         0.         0.         0.\n",
      " 0.         0.         0.         0.         0.         0.\n",
      " 0.         0.         0.         0.         0.         0.\n",
      " 0.         0.         0.         0.         0.         0.\n",
      " 0.         0.         0.         0.         0.         0.\n",
      " 0.         0.         0.         0.         0.         0.\n",
      " 0.         0.         0.         0.         0.         0.\n",
      " 0.         0.         0.         0.         0.         0.\n",
      " 0.         0.         0.         0.         0.         0.\n",
      " 0.         0.         0.         0.         0.         0.\n",
      " 0.         0.         0.         0.         0.         0.\n",
      " 0.         0.         0.         0.         0.         0.\n",
      " 0.         0.         0.         0.         0.         0.\n",
      " 0.         0.         0.         0.         0.         0.\n",
      " 0.         0.         0.         0.         0.         0.\n",
      " 0.         0.         0.         0.         0.         0.\n",
      " 0.         0.         0.         0.         0.         0.\n",
      " 0.         0.         0.01176471 0.07058824 0.07058824 0.07058824\n",
      " 0.49411765 0.53333333 0.68627451 0.10196078 0.65098039 1.\n",
      " 0.96862745 0.49803922 0.         0.         0.         0.\n",
      " 0.         0.         0.         0.         0.         0.\n",
      " 0.         0.         0.11764706 0.14117647 0.36862745 0.60392157\n",
      " 0.66666667 0.99215686 0.99215686 0.99215686 0.99215686 0.99215686\n",
      " 0.88235294 0.6745098  0.99215686 0.94901961 0.76470588 0.25098039\n",
      " 0.         0.         0.         0.         0.         0.\n",
      " 0.         0.         0.         0.         0.         0.19215686\n",
      " 0.93333333 0.99215686 0.99215686 0.99215686 0.99215686 0.99215686\n",
      " 0.99215686 0.99215686 0.99215686 0.98431373 0.36470588 0.32156863\n",
      " 0.32156863 0.21960784 0.15294118 0.         0.         0.\n",
      " 0.         0.         0.         0.         0.         0.\n",
      " 0.         0.         0.         0.07058824 0.85882353 0.99215686\n",
      " 0.99215686 0.99215686 0.99215686 0.99215686 0.77647059 0.71372549\n",
      " 0.96862745 0.94509804 0.         0.         0.         0.\n",
      " 0.         0.         0.         0.         0.         0.\n",
      " 0.         0.         0.         0.         0.         0.\n",
      " 0.         0.         0.31372549 0.61176471 0.41960784 0.99215686\n",
      " 0.99215686 0.80392157 0.04313725 0.         0.16862745 0.60392157\n",
      " 0.         0.         0.         0.         0.         0.\n",
      " 0.         0.         0.         0.         0.         0.\n",
      " 0.         0.         0.         0.         0.         0.\n",
      " 0.         0.05490196 0.00392157 0.60392157 0.99215686 0.35294118\n",
      " 0.         0.         0.         0.         0.         0.\n",
      " 0.         0.         0.         0.         0.         0.\n",
      " 0.         0.         0.         0.         0.         0.\n",
      " 0.         0.         0.         0.         0.         0.\n",
      " 0.         0.54509804 0.99215686 0.74509804 0.00784314 0.\n",
      " 0.         0.         0.         0.         0.         0.\n",
      " 0.         0.         0.         0.         0.         0.\n",
      " 0.         0.         0.         0.         0.         0.\n",
      " 0.         0.         0.         0.         0.         0.04313725\n",
      " 0.74509804 0.99215686 0.2745098  0.         0.         0.\n",
      " 0.         0.         0.         0.         0.         0.\n",
      " 0.         0.         0.         0.         0.         0.\n",
      " 0.         0.         0.         0.         0.         0.\n",
      " 0.         0.         0.         0.         0.1372549  0.94509804\n",
      " 0.88235294 0.62745098 0.42352941 0.00392157 0.         0.\n",
      " 0.         0.         0.         0.         0.         0.\n",
      " 0.         0.         0.         0.         0.         0.\n",
      " 0.         0.         0.         0.         0.         0.\n",
      " 0.         0.         0.         0.31764706 0.94117647 0.99215686\n",
      " 0.99215686 0.46666667 0.09803922 0.         0.         0.\n",
      " 0.         0.         0.         0.         0.         0.\n",
      " 0.         0.         0.         0.         0.         0.\n",
      " 0.         0.         0.         0.         0.         0.\n",
      " 0.         0.         0.17647059 0.72941176 0.99215686 0.99215686\n",
      " 0.58823529 0.10588235 0.         0.         0.         0.\n",
      " 0.         0.         0.         0.         0.         0.\n",
      " 0.         0.         0.         0.         0.         0.\n",
      " 0.         0.         0.         0.         0.         0.\n",
      " 0.         0.0627451  0.36470588 0.98823529 0.99215686 0.73333333\n",
      " 0.         0.         0.         0.         0.         0.\n",
      " 0.         0.         0.         0.         0.         0.\n",
      " 0.         0.         0.         0.         0.         0.\n",
      " 0.         0.         0.         0.         0.         0.\n",
      " 0.         0.97647059 0.99215686 0.97647059 0.25098039 0.\n",
      " 0.         0.         0.         0.         0.         0.\n",
      " 0.         0.         0.         0.         0.         0.\n",
      " 0.         0.         0.         0.         0.         0.\n",
      " 0.         0.         0.18039216 0.50980392 0.71764706 0.99215686\n",
      " 0.99215686 0.81176471 0.00784314 0.         0.         0.\n",
      " 0.         0.         0.         0.         0.         0.\n",
      " 0.         0.         0.         0.         0.         0.\n",
      " 0.         0.         0.         0.         0.15294118 0.58039216\n",
      " 0.89803922 0.99215686 0.99215686 0.99215686 0.98039216 0.71372549\n",
      " 0.         0.         0.         0.         0.         0.\n",
      " 0.         0.         0.         0.         0.         0.\n",
      " 0.         0.         0.         0.         0.         0.\n",
      " 0.09411765 0.44705882 0.86666667 0.99215686 0.99215686 0.99215686\n",
      " 0.99215686 0.78823529 0.30588235 0.         0.         0.\n",
      " 0.         0.         0.         0.         0.         0.\n",
      " 0.         0.         0.         0.         0.         0.\n",
      " 0.         0.         0.09019608 0.25882353 0.83529412 0.99215686\n",
      " 0.99215686 0.99215686 0.99215686 0.77647059 0.31764706 0.00784314\n",
      " 0.         0.         0.         0.         0.         0.\n",
      " 0.         0.         0.         0.         0.         0.\n",
      " 0.         0.         0.         0.         0.07058824 0.67058824\n",
      " 0.85882353 0.99215686 0.99215686 0.99215686 0.99215686 0.76470588\n",
      " 0.31372549 0.03529412 0.         0.         0.         0.\n",
      " 0.         0.         0.         0.         0.         0.\n",
      " 0.         0.         0.         0.         0.         0.\n",
      " 0.21568627 0.6745098  0.88627451 0.99215686 0.99215686 0.99215686\n",
      " 0.99215686 0.95686275 0.52156863 0.04313725 0.         0.\n",
      " 0.         0.         0.         0.         0.         0.\n",
      " 0.         0.         0.         0.         0.         0.\n",
      " 0.         0.         0.         0.         0.53333333 0.99215686\n",
      " 0.99215686 0.99215686 0.83137255 0.52941176 0.51764706 0.0627451\n",
      " 0.         0.         0.         0.         0.         0.\n",
      " 0.         0.         0.         0.         0.         0.\n",
      " 0.         0.         0.         0.         0.         0.\n",
      " 0.         0.         0.         0.         0.         0.\n",
      " 0.         0.         0.         0.         0.         0.\n",
      " 0.         0.         0.         0.         0.         0.\n",
      " 0.         0.         0.         0.         0.         0.\n",
      " 0.         0.         0.         0.         0.         0.\n",
      " 0.         0.         0.         0.         0.         0.\n",
      " 0.         0.         0.         0.         0.         0.\n",
      " 0.         0.         0.         0.         0.         0.\n",
      " 0.         0.         0.         0.         0.         0.\n",
      " 0.         0.         0.         0.         0.         0.\n",
      " 0.         0.         0.         0.         0.         0.\n",
      " 0.         0.         0.         0.         0.         0.\n",
      " 0.         0.         0.         0.         0.         0.\n",
      " 0.         0.         0.         0.        ]\n"
     ]
    }
   ],
   "source": [
    "print(mnist_x_train[0])"
   ]
  },
  {
   "cell_type": "code",
   "execution_count": 17,
   "id": "1557cb92",
   "metadata": {},
   "outputs": [],
   "source": [
    "def d_softmax(data):\n",
    "    sm = softmax(data)\n",
    "    sm_vec = sm.reshape(-1, 1)\n",
    "    return np.diag(sm)-sm_vec@sm_vec.T"
   ]
  },
  {
   "cell_type": "code",
   "execution_count": 18,
   "id": "84ef8958",
   "metadata": {},
   "outputs": [],
   "source": [
    "def d_tanh(data):\n",
    "    th = 1-tanh(data)**2\n",
    "    return np.diag(th)"
   ]
  },
  {
   "cell_type": "code",
   "execution_count": 19,
   "id": "2c1611f4",
   "metadata": {},
   "outputs": [],
   "source": [
    "differential = {softmax: d_softmax, tanh: d_tanh}"
   ]
  },
  {
   "cell_type": "code",
   "execution_count": 20,
   "id": "df78ff4e",
   "metadata": {},
   "outputs": [
    {
     "name": "stdout",
     "output_type": "stream",
     "text": [
      "[[ 4.26605521e-06 -1.76724289e-06 -1.72702920e-06 -1.74718399e-06]\n",
      " [-1.20684755e-06  4.79899249e-06 -1.16880048e-06 -1.18244069e-06]\n",
      " [-1.89071327e-06 -1.87374408e-06  4.02748403e-06 -1.85247636e-06]\n",
      " [-1.16849383e-06 -1.15800635e-06 -1.13165573e-06  4.78209965e-06]]\n"
     ]
    }
   ],
   "source": [
    "# 用来验证 softmax和tanh函数的导数求解是否正确\n",
    "h = 0.0001\n",
    "func = softmax\n",
    "input_len = 4\n",
    "\n",
    "test_input = np.random.rand(input_len)\n",
    "true_derivation = differential[func](test_input)\n",
    "esti_derivation = np.zeros((input_len, input_len))\n",
    "for i in range(input_len):\n",
    "    for j in range(input_len):\n",
    "        value1 = func(test_input)[i]\n",
    "        new_input = test_input.copy()\n",
    "        new_input[j] += h\n",
    "        value2 = func(new_input)[i]\n",
    "        esti_derivation[i][j] = (value2 - value1)/h\n",
    "print(esti_derivation-true_derivation)"
   ]
  },
  {
   "cell_type": "code",
   "execution_count": 21,
   "id": "dd0d69f5",
   "metadata": {},
   "outputs": [],
   "source": [
    "onehot = np.identity(dimensions[-1])"
   ]
  },
  {
   "cell_type": "code",
   "execution_count": 22,
   "id": "4f48ca24",
   "metadata": {},
   "outputs": [],
   "source": [
    "def sqr_loss(img, label, parameters):\n",
    "    y_pred = predict(img, parameters)\n",
    "    y = onehot[label]\n",
    "    diff = y - y_pred\n",
    "    return np.dot(diff, diff)"
   ]
  },
  {
   "cell_type": "code",
   "execution_count": 23,
   "id": "66083a64",
   "metadata": {},
   "outputs": [
    {
     "data": {
      "text/plain": [
       "0.9056226396096255"
      ]
     },
     "execution_count": 23,
     "metadata": {},
     "output_type": "execute_result"
    }
   ],
   "source": [
    "sqr_loss(mnist_x_train[0], mnist_y_train[0], parameters)"
   ]
  },
  {
   "cell_type": "code",
   "execution_count": 24,
   "id": "7fb28b93",
   "metadata": {},
   "outputs": [],
   "source": [
    "def grad_parameters(img, label, parameters):\n",
    "    l0_in = img+parameters[0]['b']\n",
    "    l0_out = activation[0](l0_in)\n",
    "    l1_in = np.dot(l0_out, parameters[1]['w']) + parameters[1]['b']\n",
    "    l1_out = activation[1](l1_in)\n",
    "    \n",
    "    diff = l1_out - onehot[label]\n",
    "    \n",
    "    grad_b1 = 2*( diff @ differential[activation[1]](l1_in) )\n",
    "    tmp = grad_b1.reshape(1, -1)\n",
    "    y0 = l0_out.reshape(-1, 1)\n",
    "    grad_w1 = y0 @ tmp\n",
    "    grad_b0 = tmp @ parameters[1]['w'].T @ differential[activation[0]](l0_in)\n",
    "    grad_b0 = grad_b0.reshape(-1)\n",
    "    \n",
    "    return {'w1':grad_w1, 'b1':grad_b1, 'b0':grad_b0}"
   ]
  },
  {
   "cell_type": "code",
   "execution_count": null,
   "id": "7564ce77",
   "metadata": {},
   "outputs": [],
   "source": []
  },
  {
   "cell_type": "code",
   "execution_count": 25,
   "id": "8fa80459",
   "metadata": {},
   "outputs": [
    {
     "name": "stdout",
     "output_type": "stream",
     "text": [
      "3.717436131513152e-06\n"
     ]
    }
   ],
   "source": [
    "# 用来验证对 b1 的导数求解是否正确\n",
    "h = 0.0001\n",
    "\n",
    "img_i = np.random.randint(train_num)\n",
    "test_parameters = init_parameters()\n",
    "true_derivative = grad_parameters(mnist_x_train[img_i], mnist_y_train[img_i], test_parameters)['b1']\n",
    "esti_derivative = np.zeros(10)\n",
    "for i in range(10):\n",
    "    value1 = sqr_loss(mnist_x_train[img_i], mnist_y_train[img_i], test_parameters)\n",
    "    tmp = test_parameters.copy()\n",
    "    tmp[1]['b'][i] += h\n",
    "    value2 = sqr_loss(mnist_x_train[img_i], mnist_y_train[img_i], tmp)\n",
    "    esti_derivative[i] = (value2 - value1)/h\n",
    "print(abs(esti_derivative - true_derivative).max())"
   ]
  },
  {
   "cell_type": "code",
   "execution_count": 26,
   "id": "24fbf8aa",
   "metadata": {},
   "outputs": [
    {
     "name": "stdout",
     "output_type": "stream",
     "text": [
      "3.7954507678197857e-06\n"
     ]
    }
   ],
   "source": [
    "# 用来验证对 b0 的导数求解是否正确\n",
    "h = 0.0001\n",
    "\n",
    "img_i = np.random.randint(train_num)\n",
    "test_parameters = init_parameters()\n",
    "true_derivative = grad_parameters(mnist_x_train[img_i], mnist_y_train[img_i], test_parameters)['b0']\n",
    "esti_derivative = np.zeros(784)\n",
    "for i in range(784):\n",
    "    value1 = sqr_loss(mnist_x_train[img_i], mnist_y_train[img_i], test_parameters)\n",
    "    tmp = test_parameters.copy()\n",
    "    tmp[0]['b'][i] += h\n",
    "    value2 = sqr_loss(mnist_x_train[img_i], mnist_y_train[img_i], tmp)\n",
    "    esti_derivative[i] = (value2 - value1)/h\n",
    "print(abs(esti_derivative - true_derivative).max())"
   ]
  },
  {
   "cell_type": "code",
   "execution_count": 27,
   "id": "0d79a6f7",
   "metadata": {},
   "outputs": [
    {
     "name": "stdout",
     "output_type": "stream",
     "text": [
      "1.9139833583869947e-06\n"
     ]
    }
   ],
   "source": [
    "# 用来验证对 w1 的导数求解是否正确\n",
    "h = 0.0001\n",
    "\n",
    "img_i = np.random.randint(train_num)\n",
    "test_parameters = init_parameters()\n",
    "true_derivative = grad_parameters(mnist_x_train[img_i], mnist_y_train[img_i], test_parameters)['w1']\n",
    "esti_derivative = np.zeros((784, 10))\n",
    "for i in range(784):\n",
    "    for j in range(10):\n",
    "        value1 = sqr_loss(mnist_x_train[img_i], mnist_y_train[img_i], test_parameters)\n",
    "        tmp = test_parameters.copy()\n",
    "        tmp[1]['w'][i][j] += h\n",
    "        value2 = sqr_loss(mnist_x_train[img_i], mnist_y_train[img_i], tmp)\n",
    "        esti_derivative[i][j] = (value2 - value1)/h\n",
    "print(abs(esti_derivative - true_derivative).max())"
   ]
  },
  {
   "cell_type": "code",
   "execution_count": null,
   "id": "1b8dc926",
   "metadata": {},
   "outputs": [],
   "source": []
  },
  {
   "cell_type": "code",
   "execution_count": 28,
   "id": "894cfa07",
   "metadata": {},
   "outputs": [],
   "source": [
    "def valid_loss(parameters):\n",
    "    loss_accu = 0\n",
    "    for img_i in range(valid_num):\n",
    "        loss_accu += sqr_loss(mnist_x_valid[img_i], mnist_y_valid[img_i], parameters)\n",
    "    return loss_accu/(valid_num/1000)\n",
    "def train_loss(parameters):\n",
    "    loss_accu = 0\n",
    "    for img_i in range(train_num):\n",
    "        loss_accu += sqr_loss(mnist_x_train[img_i], mnist_y_train[img_i], parameters)\n",
    "    return loss_accu/(train_num/1000)\n",
    "def valid_accuracy(parameters):\n",
    "    correct = []\n",
    "    for img_i in range(valid_num):\n",
    "        t = predict(mnist_x_valid[img_i], parameters).argmax() == mnist_y_valid[img_i]\n",
    "        correct.append(t)\n",
    "    return correct.count(True)/len(correct)\n",
    "def train_accuracy(parameters):\n",
    "    correct = []\n",
    "    for img_i in range(train_num):\n",
    "        t = predict(mnist_x_train[img_i], parameters).argmax() == mnist_y_train[img_i]\n",
    "        correct.append(t)\n",
    "    return correct.count(True)/len(correct)"
   ]
  },
  {
   "cell_type": "code",
   "execution_count": null,
   "id": "7e4548c8",
   "metadata": {},
   "outputs": [],
   "source": []
  },
  {
   "cell_type": "code",
   "execution_count": null,
   "id": "adeeeb30",
   "metadata": {},
   "outputs": [],
   "source": []
  },
  {
   "cell_type": "code",
   "execution_count": 43,
   "id": "67db5afb",
   "metadata": {},
   "outputs": [],
   "source": [
    "batch_size=100"
   ]
  },
  {
   "cell_type": "code",
   "execution_count": 44,
   "id": "2119f85b",
   "metadata": {},
   "outputs": [],
   "source": [
    "def batch_grad_avg(current_batch, parameters):\n",
    "    grad_accu = grad_parameters(mnist_x_train[current_batch*batch_size+0], mnist_y_train[current_batch*batch_size+0], parameters)\n",
    "    for img_i in range(1, batch_size):\n",
    "        grad_tmp = grad_parameters(mnist_x_train[current_batch*batch_size+img_i], mnist_y_train[current_batch*batch_size+img_i], parameters)\n",
    "        for key in grad_tmp.keys():\n",
    "            grad_accu[key] += grad_tmp[key]\n",
    "    for key in grad_accu.keys():\n",
    "        grad_accu[key] /= batch_size\n",
    "    return grad_accu"
   ]
  },
  {
   "cell_type": "code",
   "execution_count": 45,
   "id": "9037295a",
   "metadata": {},
   "outputs": [],
   "source": [
    "def step(parameters, grad, learning_rate):\n",
    "    parameters_tmp = parameters.copy()\n",
    "    parameters_tmp[0]['b'] -= learning_rate*grad['b0']\n",
    "    parameters_tmp[1]['b'] -= learning_rate*grad['b1']\n",
    "    parameters_tmp[1]['w'] -= learning_rate*grad['w1']\n",
    "    return parameters_tmp"
   ]
  },
  {
   "cell_type": "code",
   "execution_count": 46,
   "id": "14c04bbd",
   "metadata": {},
   "outputs": [],
   "source": [
    "# 下面开始训练\n",
    "parameters = init_parameters()\n",
    "train_loss_array = []\n",
    "train_loss_array.append(train_loss(parameters))\n",
    "valid_loss_array = []\n",
    "valid_loss_array.append(valid_loss(parameters))\n",
    "train_accu = []\n",
    "train_accu.append(train_accuracy(parameters))\n",
    "valid_accu = []\n",
    "valid_accu.append(valid_accuracy(parameters))"
   ]
  },
  {
   "cell_type": "code",
   "execution_count": 47,
   "id": "c97f159c",
   "metadata": {},
   "outputs": [
    {
     "data": {
      "text/plain": [
       "0.1358"
      ]
     },
     "execution_count": 47,
     "metadata": {},
     "output_type": "execute_result"
    }
   ],
   "source": [
    "valid_accuracy(parameters)"
   ]
  },
  {
   "cell_type": "code",
   "execution_count": 48,
   "id": "319fd6a9",
   "metadata": {},
   "outputs": [],
   "source": [
    "from tqdm.notebook import tqdm"
   ]
  },
  {
   "cell_type": "code",
   "execution_count": 49,
   "id": "b8764087",
   "metadata": {},
   "outputs": [
    {
     "data": {
      "application/vnd.jupyter.widget-view+json": {
       "model_id": "9375d0a8f68f408da3bee007ef1be9c9",
       "version_major": 2,
       "version_minor": 0
      },
      "text/plain": [
       "  0%|          | 0/5 [00:00<?, ?it/s]"
      ]
     },
     "metadata": {},
     "output_type": "display_data"
    },
    {
     "name": "stdout",
     "output_type": "stream",
     "text": [
      "epoch: 0\n",
      "epoch: 1\n",
      "epoch: 2\n",
      "epoch: 3\n",
      "epoch: 4\n"
     ]
    }
   ],
   "source": [
    "batch_num = train_num // batch_size\n",
    "learn_rate = 1\n",
    "for epoch in tqdm(range(5)):\n",
    "    print(f\"epoch: {epoch}\")\n",
    "    for i in range(batch_num):\n",
    "        grad_tmp = batch_grad_avg(i, parameters)\n",
    "        parameters = step(parameters, grad_tmp, learn_rate)\n",
    "    train_loss_array.append(train_loss(parameters))\n",
    "    valid_loss_array.append(valid_loss(parameters))\n",
    "    train_accu.append(train_accuracy(parameters))\n",
    "    valid_accu.append(valid_accuracy(parameters))"
   ]
  },
  {
   "cell_type": "code",
   "execution_count": 53,
   "id": "1c25be15",
   "metadata": {},
   "outputs": [
    {
     "data": {
      "image/png": "[encoded data removed]",
      "text/plain": [
       "<Figure size 640x480 with 1 Axes>"
      ]
     },
     "metadata": {},
     "output_type": "display_data"
    }
   ],
   "source": [
    "lower = 2\n",
    "plt.plot(train_loss_array[lower:], color='red', label='train loss')\n",
    "plt.plot(valid_loss_array[lower:], color='black', label='valid loss')\n",
    "plt.show()"
   ]
  },
  {
   "cell_type": "code",
   "execution_count": 54,
   "id": "9ad04744",
   "metadata": {},
   "outputs": [
    {
     "data": {
      "image/png": "[encoded data removed]",
      "text/plain": [
       "<Figure size 640x480 with 1 Axes>"
      ]
     },
     "metadata": {},
     "output_type": "display_data"
    }
   ],
   "source": [
    "plt.plot(train_accu[lower:], color='red', label='train accuracy')\n",
    "plt.plot(valid_accu[lower:], color='black', label='valid accuracy')\n",
    "plt.show()"
   ]
  },
  {
   "cell_type": "code",
   "execution_count": 52,
   "id": "926075ab",
   "metadata": {},
   "outputs": [
    {
     "name": "stdout",
     "output_type": "stream",
     "text": [
      "0.92528\n",
      "0.9271\n"
     ]
    }
   ],
   "source": [
    "print(train_accuracy(parameters))\n",
    "print(valid_accuracy(parameters))"
   ]
  }
 ],
 "metadata": {
  "kernelspec": {
   "display_name": "Python 3 (ipykernel)",
   "language": "python",
   "name": "python3"
  },
  "language_info": {
   "codemirror_mode": {
    "name": "ipython",
    "version": 3
   },
   "file_extension": ".py",
   "mimetype": "text/x-python",
   "name": "python",
   "nbconvert_exporter": "python",
   "pygments_lexer": "ipython3",
   "version": "3.11.5"
  }
 },
 "nbformat": 4,
 "nbformat_minor": 5
}
