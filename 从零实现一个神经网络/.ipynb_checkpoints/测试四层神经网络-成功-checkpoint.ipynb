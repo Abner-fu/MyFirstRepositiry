{
 "cells": [
  {
   "cell_type": "code",
   "execution_count": 1,
   "id": "2246fe2d",
   "metadata": {},
   "outputs": [],
   "source": [
    "# %matplotlib inline\n",
    "import numpy as np\n",
    "import math\n",
    "import matplotlib.pyplot as plt\n",
    "from tqdm.notebook import tqdm"
   ]
  },
  {
   "cell_type": "code",
   "execution_count": 2,
   "id": "f59d1727",
   "metadata": {},
   "outputs": [],
   "source": [
    "def bypass(x):\n",
    "    return x\n",
    "def tanh(x):\n",
    "    return np.tanh(x)\n",
    "def softmax(x):\n",
    "    exp = np.exp(x-x.max())\n",
    "    return exp/exp.sum()\n",
    "def d_softmax(data):\n",
    "    sm = softmax(data)\n",
    "    sm_vec = sm.reshape(-1, 1)\n",
    "    return np.diag(sm)-sm_vec@sm_vec.T\n",
    "def d_tanh(data):\n",
    "    th = 1-tanh(data)**2\n",
    "    return np.diag(th)\n",
    "def d_bypass(x):\n",
    "    return 1\n",
    "differential = {softmax: d_softmax, tanh: d_tanh, bypass: d_bypass}"
   ]
  },
  {
   "cell_type": "code",
   "execution_count": 3,
   "id": "92e2ea04",
   "metadata": {},
   "outputs": [],
   "source": [
    "# 只需要修改这个框里面的东西即可\n",
    "dimensions=[28*28, 100, 20, 10]\n",
    "activation = [bypass, tanh, tanh, softmax]\n",
    "distribution=[\n",
    "    {}, # leave it empty\n",
    "    {'b':[0, 0], 'w':[-math.sqrt(6/(dimensions[0]+ dimensions[1])), math.sqrt(6/(dimensions[0]+ dimensions[1]))]},\n",
    "    {'b':[0, 0], 'w':[-math.sqrt(6/(dimensions[1]+ dimensions[2])), math.sqrt(6/(dimensions[1]+ dimensions[2]))]},\n",
    "    {'b':[0, 0], 'w':[-math.sqrt(6/(dimensions[2]+ dimensions[3])), math.sqrt(6/(dimensions[2]+ dimensions[3]))]},\n",
    "]"
   ]
  },
  {
   "cell_type": "code",
   "execution_count": 4,
   "id": "8e6926b3",
   "metadata": {},
   "outputs": [],
   "source": [
    "def init_parameters_b(layer):\n",
    "    dist = distribution[layer]['b']\n",
    "    return np.random.rand(dimensions[layer])*(dist[1]-dist[0]) + dist[0]\n",
    "def init_parameters_w(layer):\n",
    "    dist = distribution[layer]['w']\n",
    "    return np.random.rand(dimensions[layer-1], dimensions[layer])*(dist[1]-dist[0]) + dist[0]\n",
    "def init_parameters():\n",
    "    parameter = []\n",
    "    for i in range(len(distribution)):\n",
    "        layer_parameter={}\n",
    "        for j in distribution[i].keys():\n",
    "            if j=='b':\n",
    "                layer_parameter['b']=init_parameters_b(i)\n",
    "                continue\n",
    "            if j=='w':\n",
    "                layer_parameter['w']=init_parameters_w(i)\n",
    "                continue\n",
    "        parameter.append(layer_parameter)\n",
    "    return parameter"
   ]
  },
  {
   "cell_type": "code",
   "execution_count": 5,
   "id": "4e33e480",
   "metadata": {},
   "outputs": [],
   "source": [
    "def predict(img, parameters):\n",
    "    l_in=img\n",
    "    l_out = activation[0](l_in)\n",
    "    for layer in range(1, len(dimensions)):\n",
    "        l_in = np.dot(l_out, parameters[layer]['w']) + parameters[layer]['b']\n",
    "        l_out = activation[layer](l_in)\n",
    "    return l_out"
   ]
  },
  {
   "cell_type": "code",
   "execution_count": null,
   "id": "b8df38d0",
   "metadata": {},
   "outputs": [],
   "source": []
  },
  {
   "cell_type": "code",
   "execution_count": 6,
   "id": "ad0b8c0c",
   "metadata": {},
   "outputs": [
    {
     "name": "stdout",
     "output_type": "stream",
     "text": [
      "(50000, 784)\n",
      "(10000, 784)\n",
      "(10000, 784)\n",
      "(50000,)\n",
      "(10000,)\n",
      "(10000,)\n"
     ]
    }
   ],
   "source": [
    "mnist_x_train = np.load('mnist_x_train.npy')\n",
    "tmp_y = np.load('mnist_y_train.npy')\n",
    "mnist_x_test = np.load('mnist_x_test.npy')\n",
    "mnist_y_test = np.load('mnist_y_test.npy')\n",
    "m1, m2, m3 = mnist_x_train.shape\n",
    "tmp = mnist_x_train.reshape(-1, m2*m3)\n",
    "mnist_x_test = mnist_x_test.reshape(-1, m2*m3)\n",
    "\n",
    "train_num = 50000\n",
    "valid_num = 10000\n",
    "test_num = 10000\n",
    "\n",
    "mnist_x_train = tmp[:train_num]\n",
    "mnist_x_valid = tmp[train_num:]\n",
    "mnist_y_train = tmp_y[:train_num]\n",
    "mnist_y_valid = tmp_y[train_num:]\n",
    "\n",
    "mnist_x_train = np.divide(mnist_x_train, 255)\n",
    "mnist_x_valid = np.divide(mnist_x_valid, 255)\n",
    "mnist_x_test = np.divide(mnist_x_test, 255)\n",
    "print(mnist_x_train.shape)\n",
    "print(mnist_x_valid.shape)\n",
    "print(mnist_x_test.shape)\n",
    "print(mnist_y_train.shape)\n",
    "print(mnist_y_valid.shape)\n",
    "print(mnist_y_test.shape)"
   ]
  },
  {
   "cell_type": "code",
   "execution_count": 7,
   "id": "34c6bb40",
   "metadata": {},
   "outputs": [],
   "source": [
    "def show_train(index):\n",
    "    plt.imshow(mnist_x_train[index].reshape(28, 28), cmap='gray')\n",
    "    print(f'label: {mnist_y_train[index]}')\n",
    "def show_valid(index):\n",
    "    plt.imshow(mnist_x_valid[index].reshape(28, 28), cmap='gray')\n",
    "    print(f'label: {mnist_y_valid[index]}')\n",
    "def show_test(index):\n",
    "    plt.imshow(mnist_x_test[index].reshape(28, 28), cmap='gray')\n",
    "    print(f'label: {mnist_y_test[index]}')"
   ]
  },
  {
   "cell_type": "code",
   "execution_count": 8,
   "id": "4780b572",
   "metadata": {},
   "outputs": [
    {
     "name": "stdout",
     "output_type": "stream",
     "text": [
      "label: 7\n"
     ]
    },
    {
     "data": {
      "image/png": "[encoded data removed]",
      "text/plain": [
       "<Figure size 640x480 with 1 Axes>"
      ]
     },
     "metadata": {},
     "output_type": "display_data"
    }
   ],
   "source": [
    "show_train(np.random.randint(train_num-1))"
   ]
  },
  {
   "cell_type": "code",
   "execution_count": 9,
   "id": "321ca09e",
   "metadata": {},
   "outputs": [
    {
     "name": "stdout",
     "output_type": "stream",
     "text": [
      "label: 4\n"
     ]
    },
    {
     "data": {
      "image/png": "[encoded data removed]",
      "text/plain": [
       "<Figure size 640x480 with 1 Axes>"
      ]
     },
     "metadata": {},
     "output_type": "display_data"
    }
   ],
   "source": [
    "show_valid(np.random.randint(valid_num-1))"
   ]
  },
  {
   "cell_type": "code",
   "execution_count": 10,
   "id": "5b0265d0",
   "metadata": {},
   "outputs": [
    {
     "name": "stdout",
     "output_type": "stream",
     "text": [
      "label: 7\n"
     ]
    },
    {
     "data": {
      "image/png": "[encoded data removed]",
      "text/plain": [
       "<Figure size 640x480 with 1 Axes>"
      ]
     },
     "metadata": {},
     "output_type": "display_data"
    }
   ],
   "source": [
    "show_test(np.random.randint(test_num-1))"
   ]
  },
  {
   "cell_type": "code",
   "execution_count": null,
   "id": "9b4ff88c",
   "metadata": {},
   "outputs": [],
   "source": []
  },
  {
   "cell_type": "code",
   "execution_count": 11,
   "id": "2e7d43d0",
   "metadata": {},
   "outputs": [
    {
     "name": "stdout",
     "output_type": "stream",
     "text": [
      "[[ 4.81056057e-06 -1.17071017e-06 -1.25882897e-06 -1.33693578e-06]\n",
      " [-2.07205000e-06  3.61633615e-06 -1.98972533e-06 -2.11318246e-06]\n",
      " [-1.15712727e-06 -1.03337228e-06  4.76710790e-06 -1.18009740e-06]\n",
      " [-1.58138274e-06 -1.41225315e-06 -1.51855305e-06  4.63021564e-06]]\n"
     ]
    }
   ],
   "source": [
    "# 用来验证 softmax和tanh函数的导数求解是否正确\n",
    "h = 0.0001\n",
    "func = softmax\n",
    "input_len = 4\n",
    "\n",
    "test_input = np.random.rand(input_len)\n",
    "true_derivation = differential[func](test_input)\n",
    "esti_derivation = np.zeros((input_len, input_len))\n",
    "for i in range(input_len):\n",
    "    for j in range(input_len):\n",
    "        value1 = func(test_input)[i]\n",
    "        new_input = test_input.copy()\n",
    "        new_input[j] += h\n",
    "        value2 = func(new_input)[i]\n",
    "        esti_derivation[i][j] = (value2 - value1)/h\n",
    "print(esti_derivation-true_derivation)"
   ]
  },
  {
   "cell_type": "code",
   "execution_count": 12,
   "id": "1de3a9c0",
   "metadata": {},
   "outputs": [],
   "source": [
    "onehot = np.identity(dimensions[-1])\n",
    "def sqr_loss(img, label, parameters):\n",
    "    y_pred = predict(img, parameters)\n",
    "    y = onehot[label]\n",
    "    diff = y - y_pred\n",
    "    return np.dot(diff, diff)"
   ]
  },
  {
   "cell_type": "code",
   "execution_count": 13,
   "id": "decd208c",
   "metadata": {},
   "outputs": [],
   "source": [
    "def grad_parameters(img, label, parameters):\n",
    "    l_in_list = [img]\n",
    "    l_out_list = [activation[0](l_in_list[0])]\n",
    "    for layer in range(1, len(dimensions)):\n",
    "        l_in = np.dot(l_out_list[layer-1], parameters[layer]['w']) + parameters[layer]['b']\n",
    "        l_out = activation[layer](l_in)\n",
    "        l_in_list.append(l_in)\n",
    "        l_out_list.append(l_out)\n",
    "    \n",
    "    d_layer = 2 * (l_out_list[-1] - onehot[label])\n",
    "    grad_result = [None]*len(dimensions)\n",
    "    for layer in range(len(dimensions)-1, 0, -1):\n",
    "        d_layer = d_layer @ differential[activation[layer]](l_in_list[layer])\n",
    "        grad_result[layer] = {}\n",
    "        grad_result[layer]['b'] = d_layer\n",
    "        tmp = d_layer.reshape(1, -1)\n",
    "        tmp_2 = l_out_list[layer-1].reshape(-1, 1)\n",
    "        grad_result[layer]['w'] = tmp_2 @ tmp\n",
    "        d_layer = d_layer @ parameters[layer]['w'].T\n",
    "    return grad_result"
   ]
  },
  {
   "cell_type": "code",
   "execution_count": 14,
   "id": "e99c68fd",
   "metadata": {},
   "outputs": [],
   "source": [
    "# grad_parameters(mnist_x_train[0], mnist_y_train[0], init_parameters())"
   ]
  },
  {
   "cell_type": "code",
   "execution_count": 15,
   "id": "354b4657",
   "metadata": {},
   "outputs": [
    {
     "name": "stdout",
     "output_type": "stream",
     "text": [
      "1.05299378457685e-06\n"
     ]
    }
   ],
   "source": [
    "# 用来验证对 b1 的导数求解是否正确\n",
    "h = 0.00001\n",
    "layer = 1\n",
    "\n",
    "pname='b'\n",
    "img_i = np.random.randint(train_num)\n",
    "test_parameters = init_parameters()\n",
    "true_derivative = grad_parameters(mnist_x_train[img_i], mnist_y_train[img_i], test_parameters)[layer][pname]\n",
    "esti_derivative = np.zeros(dimensions[layer])\n",
    "for i in range(dimensions[layer]):\n",
    "    value1 = sqr_loss(mnist_x_train[img_i], mnist_y_train[img_i], test_parameters)\n",
    "    tmp = test_parameters.copy()\n",
    "    tmp[layer][pname][i] += h\n",
    "    value2 = sqr_loss(mnist_x_train[img_i], mnist_y_train[img_i], tmp)\n",
    "    esti_derivative[i] = (value2 - value1)/h\n",
    "print(abs(esti_derivative - true_derivative).max())\n",
    "# print(esti_derivative - true_derivative)"
   ]
  },
  {
   "cell_type": "code",
   "execution_count": 19,
   "id": "d85cbc07",
   "metadata": {},
   "outputs": [
    {
     "data": {
      "application/vnd.jupyter.widget-view+json": {
       "model_id": "7fb76f17c7a24278911f3ee1597993f1",
       "version_major": 2,
       "version_minor": 0
      },
      "text/plain": [
       "  0%|          | 0/784 [00:00<?, ?it/s]"
      ]
     },
     "metadata": {},
     "output_type": "display_data"
    },
    {
     "name": "stdout",
     "output_type": "stream",
     "text": [
      "3.405505658117536e-06\n"
     ]
    }
   ],
   "source": [
    "# 用来验证对 w1 的导数求解是否正确\n",
    "h = 0.000001\n",
    "layer = 1\n",
    "\n",
    "pname='w'\n",
    "img_i = np.random.randint(train_num)\n",
    "test_parameters = init_parameters()\n",
    "true_derivative = grad_parameters(mnist_x_train[img_i], mnist_y_train[img_i], test_parameters)[layer][pname]\n",
    "esti_derivative = np.zeros((dimensions[layer-1], dimensions[layer]))\n",
    "for i in tqdm(range(dimensions[layer-1])):\n",
    "    for j in range(dimensions[layer]):\n",
    "        value1 = sqr_loss(mnist_x_train[img_i], mnist_y_train[img_i], test_parameters)\n",
    "        tmp = test_parameters.copy()\n",
    "        tmp[layer][pname][i][j] += h\n",
    "        value2 = sqr_loss(mnist_x_train[img_i], mnist_y_train[img_i], tmp)\n",
    "        esti_derivative[i][j] = (value2 - value1)/h\n",
    "print(abs(esti_derivative - true_derivative).max())\n",
    "# print(esti_derivative - true_derivative)"
   ]
  },
  {
   "cell_type": "code",
   "execution_count": 20,
   "id": "41b3d6b0",
   "metadata": {},
   "outputs": [],
   "source": [
    "def valid_loss(parameters):\n",
    "    loss_accu = 0\n",
    "    for img_i in range(valid_num):\n",
    "        loss_accu += sqr_loss(mnist_x_valid[img_i], mnist_y_valid[img_i], parameters)\n",
    "    return loss_accu/(valid_num/1000)\n",
    "def train_loss(parameters):\n",
    "    loss_accu = 0\n",
    "    for img_i in range(train_num):\n",
    "        loss_accu += sqr_loss(mnist_x_train[img_i], mnist_y_train[img_i], parameters)\n",
    "    return loss_accu/(train_num/1000)\n",
    "def valid_accuracy(parameters):\n",
    "    correct = []\n",
    "    for img_i in range(valid_num):\n",
    "        t = predict(mnist_x_valid[img_i], parameters).argmax() == mnist_y_valid[img_i]\n",
    "        correct.append(t)\n",
    "    return correct.count(True)/len(correct)\n",
    "def train_accuracy(parameters):\n",
    "    correct = []\n",
    "    for img_i in range(train_num):\n",
    "        t = predict(mnist_x_train[img_i], parameters).argmax() == mnist_y_train[img_i]\n",
    "        correct.append(t)\n",
    "    return correct.count(True)/len(correct)\n",
    "def test_accuracy(parameters):\n",
    "    correct = []\n",
    "    for img_i in range(test_num):\n",
    "        t = predict(mnist_x_test[img_i], parameters).argmax() == mnist_y_test[img_i]\n",
    "        correct.append(t)\n",
    "    return correct.count(True)/len(correct)"
   ]
  },
  {
   "cell_type": "code",
   "execution_count": 21,
   "id": "89fa545a",
   "metadata": {},
   "outputs": [],
   "source": [
    "batch_size=100"
   ]
  },
  {
   "cell_type": "code",
   "execution_count": 22,
   "id": "625036f9",
   "metadata": {},
   "outputs": [],
   "source": [
    "def grad_add(grad1, grad2):\n",
    "    for layer in range(1, len(grad1)):\n",
    "        for pname in grad1[layer].keys():\n",
    "            grad1[layer][pname] += grad2[layer][pname]\n",
    "    return grad1\n",
    "\n",
    "def grad_divide(grad, denominator):\n",
    "    for layer in range(1, len(grad)):\n",
    "        for pname in grad[layer].keys():\n",
    "            grad[layer][pname] /= denominator\n",
    "    return grad\n",
    "\n",
    "def batch_grad_avg(current_batch, parameters):\n",
    "    grad_accu = grad_parameters(mnist_x_train[current_batch*batch_size+0], mnist_y_train[current_batch*batch_size+0], parameters)\n",
    "    for img_i in range(1, batch_size):\n",
    "        grad_tmp = grad_parameters(mnist_x_train[current_batch*batch_size+img_i], mnist_y_train[current_batch*batch_size+img_i], parameters)\n",
    "        grad_add(grad_accu, grad_tmp)\n",
    "    grad_divide(grad_accu, batch_size)\n",
    "    return grad_accu"
   ]
  },
  {
   "cell_type": "code",
   "execution_count": 23,
   "id": "1de7c7a2",
   "metadata": {},
   "outputs": [],
   "source": [
    "def step(parameters, grad, learning_rate):\n",
    "    parameters_tmp = parameters.copy()\n",
    "    for layer in range(1, len(parameters_tmp)):\n",
    "        for pname in parameters_tmp[layer].keys():\n",
    "            parameters_tmp[layer][pname] -= learning_rate*grad[layer][pname]\n",
    "    return parameters_tmp"
   ]
  },
  {
   "cell_type": "code",
   "execution_count": 24,
   "id": "6ab9c410",
   "metadata": {},
   "outputs": [],
   "source": [
    "# 下面开始训练\n",
    "parameters = init_parameters()\n",
    "train_loss_array = []\n",
    "train_loss_array.append(train_loss(parameters))\n",
    "valid_loss_array = []\n",
    "valid_loss_array.append(valid_loss(parameters))\n",
    "train_accu = []\n",
    "train_accu.append(train_accuracy(parameters))\n",
    "valid_accu = []\n",
    "valid_accu.append(valid_accuracy(parameters))"
   ]
  },
  {
   "cell_type": "code",
   "execution_count": 25,
   "id": "7d1be0ad",
   "metadata": {},
   "outputs": [
    {
     "data": {
      "text/plain": [
       "0.0881"
      ]
     },
     "execution_count": 25,
     "metadata": {},
     "output_type": "execute_result"
    }
   ],
   "source": [
    "valid_accuracy(parameters)"
   ]
  },
  {
   "cell_type": "code",
   "execution_count": 37,
   "id": "14fa74dc",
   "metadata": {},
   "outputs": [
    {
     "data": {
      "application/vnd.jupyter.widget-view+json": {
       "model_id": "7c621763888846b1bccf5e96cbe89563",
       "version_major": 2,
       "version_minor": 0
      },
      "text/plain": [
       "  0%|          | 0/5 [00:00<?, ?it/s]"
      ]
     },
     "metadata": {},
     "output_type": "display_data"
    },
    {
     "name": "stdout",
     "output_type": "stream",
     "text": [
      "epoch: 0\n",
      "epoch: 1\n",
      "epoch: 2\n",
      "epoch: 3\n",
      "epoch: 4\n"
     ]
    }
   ],
   "source": [
    "batch_num = train_num // batch_size\n",
    "learn_rate = 0.3\n",
    "for epoch in tqdm(range(5)):\n",
    "    print(f\"epoch: {epoch}\")\n",
    "    for i in range(batch_num):\n",
    "        grad_tmp = batch_grad_avg(i, parameters)\n",
    "        parameters = step(parameters, grad_tmp, learn_rate)\n",
    "    train_loss_array.append(train_loss(parameters))\n",
    "    valid_loss_array.append(valid_loss(parameters))\n",
    "    train_accu.append(train_accuracy(parameters))\n",
    "    valid_accu.append(valid_accuracy(parameters))"
   ]
  },
  {
   "cell_type": "code",
   "execution_count": 38,
   "id": "01b271e8",
   "metadata": {},
   "outputs": [
    {
     "data": {
      "image/png": "[encoded data removed]",
      "text/plain": [
       "<Figure size 640x480 with 1 Axes>"
      ]
     },
     "metadata": {},
     "output_type": "display_data"
    }
   ],
   "source": [
    "lower = 2\n",
    "plt.plot(train_loss_array[lower:], color='red', label='train loss')\n",
    "plt.plot(valid_loss_array[lower:], color='black', label='valid loss')\n",
    "plt.show()"
   ]
  },
  {
   "cell_type": "code",
   "execution_count": 39,
   "id": "91d51d30",
   "metadata": {},
   "outputs": [
    {
     "data": {
      "image/png": "[encoded data removed]",
      "text/plain": [
       "<Figure size 640x480 with 1 Axes>"
      ]
     },
     "metadata": {},
     "output_type": "display_data"
    }
   ],
   "source": [
    "plt.plot(train_accu[lower:], color='red', label='train accuracy')\n",
    "plt.plot(valid_accu[lower:], color='black', label='valid accuracy')\n",
    "plt.show()"
   ]
  },
  {
   "cell_type": "code",
   "execution_count": 40,
   "id": "ea18a07c",
   "metadata": {},
   "outputs": [
    {
     "name": "stdout",
     "output_type": "stream",
     "text": [
      "0.9933\n",
      "0.9738\n"
     ]
    }
   ],
   "source": [
    "print(train_accuracy(parameters))\n",
    "print(valid_accuracy(parameters))"
   ]
  },
  {
   "cell_type": "code",
   "execution_count": 41,
   "id": "cbde296f",
   "metadata": {},
   "outputs": [
    {
     "name": "stdout",
     "output_type": "stream",
     "text": [
      "0.9743\n"
     ]
    }
   ],
   "source": [
    "print(test_accuracy(parameters))"
   ]
  },
  {
   "cell_type": "code",
   "execution_count": null,
   "id": "624d6af9",
   "metadata": {},
   "outputs": [],
   "source": []
  }
 ],
 "metadata": {
  "kernelspec": {
   "display_name": "Python 3 (ipykernel)",
   "language": "python",
   "name": "python3"
  },
  "language_info": {
   "codemirror_mode": {
    "name": "ipython",
    "version": 3
   },
   "file_extension": ".py",
   "mimetype": "text/x-python",
   "name": "python",
   "nbconvert_exporter": "python",
   "pygments_lexer": "ipython3",
   "version": "3.11.5"
  }
 },
 "nbformat": 4,
 "nbformat_minor": 5
}
